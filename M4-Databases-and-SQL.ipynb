{
 "cells": [
  {
   "cell_type": "markdown",
   "metadata": {},
   "source": [
    "## SQL filtering versus Linux filtering\n",
    "Previously, you explored the Linux commands that allow you to filter for specific information contained within files or directories. And, more recently, you examined how SQL helps you efficiently filter for the information you need. In this reading, you'll explore differences between the two tools as they relate to filtering. You'll also learn that one way to access SQL is through the Linux command line.\n",
    "\n",
    "### Accessing SQL\n",
    "There are many interfaces for accessing SQL and many different versions of SQL. One way to access SQL is through the Linux command line.\n",
    "\n",
    "To access SQL from Linux, you need to type in a command for the version of SQL that you want to use. For example, if you want to access SQLite, you can enter the command sqlite3 in the command line.\n",
    "\n",
    "After this, any commands typed in the command line will be directed to SQL instead of Linux commands.\n",
    "Differences between Linux and SQL filtering \n",
    "\n",
    "Although both Linux and SQL allow you to filter through data, there are some differences that affect which one you should choose.\n",
    "\n",
    "#### Purpose\n",
    "Linux filters data in the context of files and directories on a computer system. It’s used for tasks like searching  for specific files, manipulating file permissions, or managing processes. \n",
    "\n",
    "SQL is used to filter data within a database management system. It’s used for querying and manipulating data stored in tables and retrieving specific information based on defined criteria. \n",
    "\n",
    "#### Syntax\n",
    "Linux uses various commands and command-line options specific to each filtering tool. Syntax varies depending on the tool and purpose. Some examples of Linux commands are find, sed, cut, e grep\n",
    "\n",
    "SQL uses the Structured Query Language (SQL), a standardized language with specific keywords and clauses for filtering data across different SQL databases. Some examples of SQL keywords and clauses are WHERE, SELECT, JOIN\n",
    "\n",
    "#### Structure\n",
    "SQL offers a lot more structure than Linux, which is more free-form and not as tidy.\n",
    "\n",
    "For example, if you wanted to access a log of employee log-in attempts, SQL would have each record separated into columns. Linux would print the data as a line of text without this organization. As a result, selecting a specific column to analyze would be easier and more efficient in SQL.\n",
    "\n",
    "In terms of structure, SQL provides results that are more easily readable and that can be adjusted more quickly than when using Linux.\n",
    "\n",
    "#### Joining tables\n",
    "Some security-related decisions require information from different tables. SQL allows the analyst to join multiple tables together when returning data. Linux doesn’t have that same functionality; it doesn’t allow data to be connected to other information on your computer. This is more restrictive for an analyst going through security logs.\n",
    "\n",
    "#### Best uses\n",
    "As a security analyst, it’s important to understand when you can use which tool. Although SQL has a more organized structure and allows you to join tables, this doesn’t mean that there aren’t situations that would require you to filter data in Linux.\n",
    "\n",
    "A lot of data used in cybersecurity will be stored in a database format that works with SQL. However, other logs might be in a format that is not compatible with SQL. For instance, if the data is stored in a text file, you cannot search through it with SQL. In those cases, it is useful to know how to filter in Linux. \n",
    "\n",
    "## Key takeaways\n",
    "Linux filtering focuses on managing files and directories on a system, while SQL filtering focuses on structured data manipulation within databases. To work with SQL, you can access it from multiple different interfaces, such as the Linux command line. Both SQL and Linux allow you to filter for specific data, but SQL offers the advantages of structuring the data and allowing you to join data from multiple tables."
   ]
  }
 ],
 "metadata": {
  "language_info": {
   "name": "python"
  }
 },
 "nbformat": 4,
 "nbformat_minor": 2
}
